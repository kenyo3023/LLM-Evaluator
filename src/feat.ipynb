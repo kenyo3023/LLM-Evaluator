{
 "cells": [
  {
   "cell_type": "code",
   "execution_count": 1,
   "metadata": {},
   "outputs": [],
   "source": [
    "from dataclasses import dataclass\n",
    "from typing import Literal\n",
    "\n",
    "import numpy as np\n",
    "\n",
    "from nli.summac.base import SummaCImagerForNLI\n",
    "from nli.summac.summaczs import SummaCZS"
   ]
  },
  {
   "cell_type": "code",
   "execution_count": 2,
   "metadata": {},
   "outputs": [
    {
     "name": "stderr",
     "output_type": "stream",
     "text": [
      "Processing: 2it [00:10,  5.23s/it]\n"
     ]
    },
    {
     "data": {
      "text/plain": [
       "(array([[[2.0188758e-02, 1.9591087e-02, 4.9040325e-02],\n",
       "         [9.7440988e-01, 3.6030281e-03, 5.4131509e-03],\n",
       "         [4.2776358e-01, 9.8918450e-01, 3.9140335e-03],\n",
       "         [2.7602436e-03, 4.8177098e-03, 5.0446982e-03]],\n",
       " \n",
       "        [[5.7573881e-02, 1.5265167e-01, 5.5721302e-02],\n",
       "         [1.5794203e-03, 2.6608547e-03, 2.5353583e-03],\n",
       "         [1.5861500e-02, 7.8135938e-04, 1.3078637e-02],\n",
       "         [5.4961257e-03, 1.3166383e-02, 1.6625872e-02]],\n",
       " \n",
       "        [[9.2223734e-01, 8.2775724e-01, 8.9523834e-01],\n",
       "         [2.4010742e-02, 9.9373615e-01, 9.9205148e-01],\n",
       "         [5.5637491e-01, 1.0034146e-02, 9.8300731e-01],\n",
       "         [9.9174362e-01, 9.8201597e-01, 9.7832936e-01]]], dtype=float32),\n",
       " (3, 4, 3))"
      ]
     },
     "execution_count": 2,
     "metadata": {},
     "output_type": "execute_result"
    }
   ],
   "source": [
    "\n",
    "document = \"\"\"Scientists are studying Mars to learn about the Red Planet and find landing sites for future missions.\n",
    "One possible site, known as Arcadia Planitia, is covered instrange sinuous features.\n",
    "The shapes could be signs that the area is actually made of glaciers, which are large masses of slow-moving ice.\n",
    "Arcadia Planitia is in Mars' northern lowlands.\"\"\"\n",
    "summary = \"There are strange shape patterns on Arcadia Planitia. The shapes could indicate the area might be made of glaciers. This makes Arcadia Planitia ideal for future missions.\"\n",
    "summary2 = \"There are strange shape patterns on Arcadia Planitia. The shapes could indicate the area might be made of glaciers.\"\n",
    "\n",
    "model_name_or_path=\"tals/albert-xlarge-vitaminc-mnli\" #uer/sbert-base-chinese-nli\n",
    "imager = SummaCImagerForNLI(model_name_or_path)\n",
    "# batch, model_outputs, batch_probs, image = imager.build_image(document, summary, batch_size=3)\n",
    "probs, image = imager.build_image(document, summary, batch_size=8, return_dict_or_matrix='matrix')\n",
    "image, image.shape"
   ]
  },
  {
   "cell_type": "code",
   "execution_count": 3,
   "metadata": {},
   "outputs": [
    {
     "name": "stderr",
     "output_type": "stream",
     "text": [
      "Processing: 2it [00:13,  6.99s/it]\n"
     ]
    },
    {
     "data": {
      "text/plain": [
       "{'entailment': array([[0.02018876, 0.01959109, 0.04904032],\n",
       "        [0.9744099 , 0.00360303, 0.00541315],\n",
       "        [0.42776358, 0.9891845 , 0.00391403],\n",
       "        [0.00276024, 0.00481771, 0.0050447 ]], dtype=float32),\n",
       " 'contradiction': array([[0.05757388, 0.15265167, 0.0557213 ],\n",
       "        [0.00157942, 0.00266085, 0.00253536],\n",
       "        [0.0158615 , 0.00078136, 0.01307864],\n",
       "        [0.00549613, 0.01316638, 0.01662587]], dtype=float32),\n",
       " 'neutral': array([[0.92223734, 0.82775724, 0.89523834],\n",
       "        [0.02401074, 0.99373615, 0.9920515 ],\n",
       "        [0.5563749 , 0.01003415, 0.9830073 ],\n",
       "        [0.9917436 , 0.98201597, 0.97832936]], dtype=float32)}"
      ]
     },
     "execution_count": 3,
     "metadata": {},
     "output_type": "execute_result"
    }
   ],
   "source": [
    "probs, image = imager.build_image(document, summary, batch_size=8, return_dict_or_matrix='dict')\n",
    "image"
   ]
  },
  {
   "cell_type": "code",
   "execution_count": 4,
   "metadata": {},
   "outputs": [],
   "source": [
    "# @dataclass\n",
    "# class TermHypothesis:\n",
    "#     ent:str = lambda x: x\n",
    "#     con:str = lambda x: 1-x # based on complementary event/probability\n",
    "\n",
    "# class SummaCZS:\n",
    "#     def __init__(self,\n",
    "#                  term_estimation:Literal['mean', 'min', 'max']='max',\n",
    "#                  finalize_estimation:Literal['mean', 'min', 'max']='mean'):\n",
    "#         self.term_estimation = getattr(np, term_estimation)\n",
    "#         self.finalize_estimation = getattr(np, finalize_estimation)\n",
    "\n",
    "#     def score(self, term:np.ndarray, hypothesis:Literal['ent', 'con']='ent', return_details:bool=False):\n",
    "\n",
    "#         # Calculate term estimate\n",
    "#         term_score = self.term_estimation(term, axis=0)\n",
    "#         term_score = getattr(TermHypothesis, hypothesis)(term_score)\n",
    "\n",
    "#         # Calculate finalize estimate\n",
    "#         finalize_score = self.finalize_estimation(term_score, axis=0)\n",
    "\n",
    "#         if return_details:\n",
    "#             return {\n",
    "#                 'term_score': term_score,\n",
    "#                 'finalize_score': finalize_score,\n",
    "#             }\n",
    "#         return finalize_score\n"
   ]
  },
  {
   "cell_type": "code",
   "execution_count": 5,
   "metadata": {},
   "outputs": [
    {
     "data": {
      "text/plain": [
       "{'term_score': array([0.9744099 , 0.9891845 , 0.04904032], dtype=float32),\n",
       " 'finalize_score': 0.67087823}"
      ]
     },
     "execution_count": 5,
     "metadata": {},
     "output_type": "execute_result"
    }
   ],
   "source": [
    "term = image['entailment']\n",
    "\n",
    "summaczs = SummaCZS(estimation='max')\n",
    "summaczs.score(term=term, return_details=True)#, hypothesis='con')"
   ]
  },
  {
   "cell_type": "code",
   "execution_count": null,
   "metadata": {},
   "outputs": [],
   "source": []
  },
  {
   "cell_type": "code",
   "execution_count": null,
   "metadata": {},
   "outputs": [],
   "source": []
  }
 ],
 "metadata": {
  "kernelspec": {
   "display_name": "llm",
   "language": "python",
   "name": "python3"
  },
  "language_info": {
   "codemirror_mode": {
    "name": "ipython",
    "version": 3
   },
   "file_extension": ".py",
   "mimetype": "text/x-python",
   "name": "python",
   "nbconvert_exporter": "python",
   "pygments_lexer": "ipython3",
   "version": "3.10.13"
  }
 },
 "nbformat": 4,
 "nbformat_minor": 2
}
